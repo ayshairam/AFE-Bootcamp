{
 "cells": [
  {
   "cell_type": "markdown",
   "id": "c378a6d5-93e3-4251-8e14-99731c19d9b3",
   "metadata": {},
   "source": [
    "# Zuvy Bootcamp Codes"
   ]
  },
  {
   "cell_type": "code",
   "execution_count": 2,
   "id": "41f0aa31-d540-4333-8f28-96057ab80867",
   "metadata": {},
   "outputs": [
    {
     "name": "stdout",
     "output_type": "stream",
     "text": [
      "greater than 10\n",
      "z is greater than x\n"
     ]
    }
   ],
   "source": [
    "x = 17\n",
    "y = 15\n",
    "z = 18\n",
    "\n",
    "if x > 15 and y > 15 and z > 15:\n",
    "    print(\"Greater than 15\")\n",
    "elif z > 10 and (x > 10 or y > 10):\n",
    "    print(\"greater than 10\")\n",
    "elif z > 5 and y > 10 and x > 7:\n",
    "    print(\"Whatever\") \n",
    "else:\n",
    "    print(\"less than 10\")\n",
    "\n",
    "\n",
    "if x>15:\n",
    "    if y > 15:\n",
    "        print(\"x and y are greater than 15\")\n",
    "    elif z > x:\n",
    "        print(\"z is greater than x\")\n",
    "    else:\n",
    "        print(\"x is greater than 15\")\n",
    "else:\n",
    "    if(x > y and y > z):\n",
    "        print(\"x is greater than y and y is greater than 10\")"
   ]
  },
  {
   "cell_type": "code",
   "execution_count": 10,
   "id": "8d5d66c6-5028-4d6f-bfba-9a948ae71d84",
   "metadata": {},
   "outputs": [
    {
     "name": "stdout",
     "output_type": "stream",
     "text": [
      "Whatever\n"
     ]
    }
   ],
   "source": [
    "x = 17\n",
    "y = 15\n",
    "z = 18\n",
    "\n",
    "if x > 15 and y > 15 and z > 15:\n",
    "    print(\"Greater than 15\")\n",
    "elif z > 55 and (x > 10 or y > 10):\n",
    "    print(\"greater than 10\")\n",
    "elif z > 5 and y > 10 and x > 7:\n",
    "    print(\"Whatever\") \n",
    "else:\n",
    "    print(\"less than 10\")"
   ]
  },
  {
   "cell_type": "code",
   "execution_count": 14,
   "id": "caabb88b-241d-4f5b-88c5-02ccceeb6de3",
   "metadata": {},
   "outputs": [
    {
     "name": "stdout",
     "output_type": "stream",
     "text": [
      "The maximum number is: 7\n"
     ]
    }
   ],
   "source": [
    "a = 5\n",
    "b = 6\n",
    "c = 7\n",
    "\n",
    "max = a if (a > b and a > c) else (b if b > c else c)\n",
    "\n",
    "\n",
    "print(\"The maximum number is:\", max)"
   ]
  },
  {
   "cell_type": "code",
   "execution_count": 24,
   "id": "bf8e3d95-50a7-4f3e-a7d7-0564a8a28dfe",
   "metadata": {},
   "outputs": [
    {
     "name": "stdin",
     "output_type": "stream",
     "text": [
      "Enter a year:  2027\n"
     ]
    },
    {
     "name": "stdout",
     "output_type": "stream",
     "text": [
      "Not a Leap Year\n"
     ]
    }
   ],
   "source": [
    "\n",
    "year = int(input(\"Enter a year: \"))\n",
    "\n",
    "\n",
    "leap = \"Leap Year\" if (year % 4 == 0 and (year % 100 != 0 or year % 400 == 0)) else \"Not a Leap Year\"\n",
    "\n",
    "\n",
    "print(leap)\n"
   ]
  },
  {
   "cell_type": "code",
   "execution_count": 35,
   "id": "bf52e334-15a9-474a-97fe-d8a194be648e",
   "metadata": {},
   "outputs": [
    {
     "name": "stdin",
     "output_type": "stream",
     "text": [
      "Enter the student's score (0-100):  45\n"
     ]
    },
    {
     "name": "stdout",
     "output_type": "stream",
     "text": [
      "The student's grade is: F\n"
     ]
    }
   ],
   "source": [
    "score = int(input(\"Enter the student's score (0-100): \"))\n",
    "grade = (\"A\" if score >= 90 else\n",
    "         \"B\" if score >= 80 else\n",
    "         \"C\" if score >= 70 else\n",
    "         \"D\" if score >= 60 else\n",
    "         \"F\")\n",
    "print(\"The student's grade is:\", grade)\n"
   ]
  },
  {
   "cell_type": "code",
   "execution_count": 27,
   "id": "4e7d6cd7-dbee-406f-8e07-0e9026c316a8",
   "metadata": {},
   "outputs": [
    {
     "name": "stdout",
     "output_type": "stream",
     "text": [
      "['Aysha']\n",
      "['Aysha', 'Iram']\n"
     ]
    }
   ],
   "source": [
    "list=[\"Aysha\"]\n",
    "print(list)\n",
    "list.append('Iram')\n",
    "print(list)"
   ]
  },
  {
   "cell_type": "code",
   "execution_count": 59,
   "id": "4f9bdc48-8737-4372-aa39-cd22e6eb26d7",
   "metadata": {},
   "outputs": [],
   "source": [
    "list=[\"Aysha\"]\n",
    "count=list.count(\"Aysha\")"
   ]
  },
  {
   "cell_type": "code",
   "execution_count": 75,
   "id": "3bf722a0-406c-4f72-9dfc-87bafeed45bc",
   "metadata": {},
   "outputs": [
    {
     "name": "stdout",
     "output_type": "stream",
     "text": [
      "0\n"
     ]
    }
   ],
   "source": [
    "fruits=[\"a\",\"b\",\"c\"]\n",
    "cars=[\"BMW\",\"pagani\",\"lexus\"]\n",
    "#fruits.extend(cars)\n",
    "#focus here\n",
    "try:\n",
    "    idx=cars.index(\"BMW\")\n",
    "    print(idx)\n",
    "except:\n",
    "    print(\"Not found\")\n"
   ]
  },
  {
   "cell_type": "code",
   "execution_count": 79,
   "id": "3d9b14dd-3ba8-4fba-b42f-e37ed27457e4",
   "metadata": {},
   "outputs": [
    {
     "name": "stdout",
     "output_type": "stream",
     "text": [
      "[1, 2, 3, 4, 5, 6]\n"
     ]
    }
   ],
   "source": [
    "list = [1, 2,3, 4, 5]\n",
    "insert = 6\n",
    "list.insert(6,insert)\n",
    "print(list)"
   ]
  },
  {
   "cell_type": "code",
   "execution_count": 83,
   "id": "3ef4560f-c125-499c-ab2a-fe2821ca366c",
   "metadata": {},
   "outputs": [
    {
     "name": "stdout",
     "output_type": "stream",
     "text": [
      "[1, 2, 3, 4, 5]\n"
     ]
    }
   ],
   "source": [
    "list = [1, 2, 2, 3, 4, 4, 5]\n",
    "unique_list = []\n",
    "\n",
    "for item in list:\n",
    "    if item not in unique_list:\n",
    "        unique_list.append(item)\n",
    "\n",
    "print(unique_list)"
   ]
  },
  {
   "cell_type": "code",
   "execution_count": 87,
   "id": "7f3dfac1-577c-472b-b2a6-05b735d9c9bd",
   "metadata": {},
   "outputs": [
    {
     "name": "stdout",
     "output_type": "stream",
     "text": [
      "Maxi: 89\n",
      "Mini: 7\n"
     ]
    }
   ],
   "source": [
    "list = [12, 45, 7, 89, 34]\n",
    "max_value = max(list)\n",
    "min_value = min(list)\n",
    "print(\"Maxi:\", max_value)\n",
    "print(\"Mini:\", min_value)"
   ]
  },
  {
   "cell_type": "code",
   "execution_count": 95,
   "id": "459feea7-c97b-48fe-adcf-d20f79cf443a",
   "metadata": {},
   "outputs": [
    {
     "name": "stdout",
     "output_type": "stream",
     "text": [
      "Merged and sorted list: [1, 2, 3, 4, 5, 6]\n"
     ]
    }
   ],
   "source": [
    "list1 = [3, 1, 4]\n",
    "list2 = [5, 2, 6]\n",
    "mergedlist = sorted(list1 + list2)\n",
    "print(\"Merged and sorted list:\", mergedlist)"
   ]
  },
  {
   "cell_type": "code",
   "execution_count": 6,
   "id": "9296c9cf-8a06-482c-b815-122bcf8b6b04",
   "metadata": {},
   "outputs": [
    {
     "name": "stdin",
     "output_type": "stream",
     "text": [
      "Enter number of students:  2\n",
      "Enter name:  AYsha\n",
      "Enter roll number:  12\n",
      "Enter class:  6\n",
      "Enter grade:  A\n",
      "Enter name:  Iram\n",
      "Enter roll number:  15\n",
      "Enter class:  ^\n",
      "Enter grade:  A\n"
     ]
    },
    {
     "name": "stdout",
     "output_type": "stream",
     "text": [
      "\n",
      "Sorted Student List:\n",
      "AYsha (Roll: 12, Class: 6, Grade: A)\n",
      "Iram (Roll: 15, Class: ^, Grade: A)\n"
     ]
    }
   ],
   "source": [
    "class Student:\n",
    "    def __init__(self, name, roll, student_class, grade):\n",
    "        self.name, self.roll, self.student_class, self.grade = name, roll, student_class, grade\n",
    "\n",
    "    def __repr__(self): \n",
    "        return f\"{self.name} (Roll: {self.roll}, Class: {self.student_class}, Grade: {self.grade})\"\n",
    "\n",
    "students = []\n",
    "n = int(input(\"Enter number of students: \"))  \n",
    "\n",
    "for _ in range(n):\n",
    "    name = input(\"Enter name: \")\n",
    "    roll = int(input(\"Enter roll number: \"))\n",
    "    student_class = input(\"Enter class: \")\n",
    "    grade = input(\"Enter grade: \")\n",
    "    students.append(Student(name, roll, student_class, grade))\n",
    "\n",
    "students.sort(key=lambda s: s.roll)  \n",
    "\n",
    "print(\"\\nSorted Student List:\")\n",
    "print(*students, sep=\"\\n\")\n"
   ]
  },
  {
   "cell_type": "code",
   "execution_count": 21,
   "id": "f5d2f3e4-a7b1-4bfd-9f81-ab865dd051f5",
   "metadata": {},
   "outputs": [
    {
     "name": "stdout",
     "output_type": "stream",
     "text": [
      "['Hello', 'Aysha', 'Iram']\n",
      "Input: Hello$Aysha$Iram\n",
      "Output: Iram Aysha Hello\n"
     ]
    }
   ],
   "source": [
    "def reverse_words(sentence):\n",
    "    words = sentence.split(\"$\")\n",
    "    print(words)\n",
    "    reversed_words = []\n",
    "    \n",
    "    for word in reversed(words): \n",
    "        reversed_words.append(word)\n",
    "    \n",
    "    return \" \".join(reversed_words)  \n",
    "\n",
    "\n",
    "in_sentence = \"Hello$Aysha$Iram\"\n",
    "out_sentence = reverse_words(in_sentence)\n",
    "print(\"Input:\", in_sentence)\n",
    "print(\"Output:\", out_sentence)\n"
   ]
  },
  {
   "cell_type": "code",
   "execution_count": 6,
   "id": "d47cf35b-2e6b-485a-b3b3-25a3da002db6",
   "metadata": {},
   "outputs": [
    {
     "name": "stdin",
     "output_type": "stream",
     "text": [
      "\n",
      "1. Search by Genre \n",
      " 2. Borrow a Book \n",
      "3. Return a Book\n",
      " 4. Exit\n",
      " Choose an option:  Sci-Fi\n",
      "\n",
      "1. Search by Genre \n",
      " 2. Borrow a Book \n",
      "3. Return a Book\n",
      " 4. Exit\n",
      " Choose an option:  2\n",
      "Enter book name to borrow:  deep space\n"
     ]
    },
    {
     "name": "stdout",
     "output_type": "stream",
     "text": [
      "You have borrowed 'Deep Space'\n"
     ]
    },
    {
     "name": "stdin",
     "output_type": "stream",
     "text": [
      "\n",
      "1. Search by Genre \n",
      " 2. Borrow a Book \n",
      "3. Return a Book\n",
      " 4. Exit\n",
      " Choose an option:  3\n",
      "Enter book name to return:  space deep\n"
     ]
    },
    {
     "name": "stdout",
     "output_type": "stream",
     "text": [
      "Book not found.\n"
     ]
    },
    {
     "name": "stdin",
     "output_type": "stream",
     "text": [
      "\n",
      "1. Search by Genre \n",
      " 2. Borrow a Book \n",
      "3. Return a Book\n",
      " 4. Exit\n",
      " Choose an option:  deep space\n",
      "\n",
      "1. Search by Genre \n",
      " 2. Borrow a Book \n",
      "3. Return a Book\n",
      " 4. Exit\n",
      " Choose an option:  3\n",
      "Enter book name to return:  deep space\n"
     ]
    },
    {
     "name": "stdout",
     "output_type": "stream",
     "text": [
      "You have returned 'Deep Space'\n"
     ]
    },
    {
     "name": "stdin",
     "output_type": "stream",
     "text": [
      "\n",
      "1. Search by Genre \n",
      " 2. Borrow a Book \n",
      "3. Return a Book\n",
      " 4. Exit\n",
      " Choose an option:  4\n"
     ]
    },
    {
     "name": "stdout",
     "output_type": "stream",
     "text": [
      "Bye Bye \n"
     ]
    }
   ],
   "source": [
    "def library_system():\n",
    "    books = [\n",
    "        (\"The Lost World\", \"Arthur Conan Doyle\", \"Adventure\"),\n",
    "        (\"Python for Beginners\", \"John Smith\", \"Programming\"),\n",
    "        (\"Deep Space\", \"Jane Doe\", \"Sci-Fi\")\n",
    "    ]\n",
    "    borrowed = []\n",
    "\n",
    "    while True:\n",
    "        choice = input(\"\\n1. Search by Genre \\n 2. Borrow a Book \\n3. Return a Book\\n 4. Exit\\n Choose an option: \")\n",
    "\n",
    "        if choice == \"1\":\n",
    "            genre = input(\"Enter Genre: \").lower()\n",
    "            available = [b[0] for b in books if b[2].lower() == genre]\n",
    "            print(f\"Available Books: {available}\" if available else \"No books found.\")\n",
    "\n",
    "        elif choice in {\"2\", \"3\"}:\n",
    "            action, src, dest = (\"borrow\", books, borrowed) if choice == \"2\" else (\"return\", borrowed, books)\n",
    "            name = input(f\"Enter book name to {action}: \").strip().lower()\n",
    "            for book in src:\n",
    "                if book[0].lower() == name:\n",
    "                    src.remove(book)\n",
    "                    dest.append(book)\n",
    "                    print(f\"You have {action}ed '{book[0]}'\")\n",
    "                    break\n",
    "            else:\n",
    "                print(\"Book not found.\")\n",
    "\n",
    "        elif choice == \"4\":\n",
    "            print(\"Bye Bye \"); break\n",
    "\n",
    "library_system()\n"
   ]
  },
  {
   "cell_type": "code",
   "execution_count": 8,
   "id": "1506dbad-d302-4034-97e0-9a2dcacf3e2f",
   "metadata": {},
   "outputs": [
    {
     "name": "stdout",
     "output_type": "stream",
     "text": [
      "\n",
      "Available Books: 3 | Borrowed Books: 0\n"
     ]
    },
    {
     "name": "stdin",
     "output_type": "stream",
     "text": [
      "\n",
      "1. Search by Genre\n",
      " 2. Borrow a Book\n",
      " 3. Return a Book\n",
      " 4. Exit\n",
      " Choose an option:  1\n",
      "Enter the Genre you wanna read Aysha :  Sci-fi\n"
     ]
    },
    {
     "name": "stdout",
     "output_type": "stream",
     "text": [
      "Available Books: ['Deep Space']\n",
      "\n",
      "Available Books: 3 | Borrowed Books: 0\n"
     ]
    },
    {
     "name": "stdin",
     "output_type": "stream",
     "text": [
      "\n",
      "1. Search by Genre\n",
      " 2. Borrow a Book\n",
      " 3. Return a Book\n",
      " 4. Exit\n",
      " Choose an option:  2\n",
      "AAhan...Now Enter book name to borrow:  Deep space\n"
     ]
    },
    {
     "name": "stdout",
     "output_type": "stream",
     "text": [
      "You have borrowed the book.. Good luck!! Read well '{book[0]}'\n",
      "\n",
      "Available Books: 2 | Borrowed Books: 1\n"
     ]
    },
    {
     "name": "stdin",
     "output_type": "stream",
     "text": [
      "\n",
      "1. Search by Genre\n",
      " 2. Borrow a Book\n",
      " 3. Return a Book\n",
      " 4. Exit\n",
      " Choose an option:  3\n",
      "Enter book name to return:  Deep space\n"
     ]
    },
    {
     "name": "stdout",
     "output_type": "stream",
     "text": [
      "You have returned 'Deep Space'\n",
      "\n",
      "Available Books: 3 | Borrowed Books: 0\n"
     ]
    },
    {
     "name": "stdin",
     "output_type": "stream",
     "text": [
      "\n",
      "1. Search by Genre\n",
      " 2. Borrow a Book\n",
      " 3. Return a Book\n",
      " 4. Exit\n",
      " Choose an option:  4\n"
     ]
    },
    {
     "name": "stdout",
     "output_type": "stream",
     "text": [
      "Goodbye!\n"
     ]
    }
   ],
   "source": [
    "def search_by_genre(books):\n",
    "    genre = input(\"Enter the Genre you wanna read Aysha : \").lower()\n",
    "    available = [b[0] for b in books if b[2].lower() == genre]\n",
    "    print(f\"Available Books: {available}\" if available \n",
    "else \"No books found.\")\n",
    "\n",
    "def borrow_book(books, borrowed, count):\n",
    "    name = input(\"AAhan...Now Enter book name to borrow: \").lower()\n",
    "    for book in books:\n",
    "        if book[0].lower() == name:\n",
    "            books.remove(book)\n",
    "            borrowed.append(book)\n",
    "            count[\"available\"] -= 1\n",
    "            count[\"borrowed\"] += 1\n",
    "            print(\"You have borrowed the book.. Good luck!! Read well '{book[0]}'\")\n",
    "            return\n",
    "    print(\"Uff.. your Book is not found Aysha...Sorry\")\n",
    "\n",
    "def return_book(books, borrowed, count):\n",
    "    name = input(\"Enter book name to return: \").lower()\n",
    "    for book in borrowed:\n",
    "        if book[0].lower() == name:\n",
    "            borrowed.remove(book)\n",
    "            books.append(book)\n",
    "            count[\"available\"] += 1\n",
    "            count[\"borrowed\"] -= 1\n",
    "            print(f\"You have returned '{book[0]}'\")\n",
    "            return\n",
    "    print(\"Book is not found. Read the list properly..huh!!\")\n",
    "\n",
    "def library_system():\n",
    "    books = [\n",
    "        (\"The Lost World\", \"Arthur Conan Doyle\", \"Adventure\"),\n",
    "        (\"Python for Beginners\", \"John Smith\", \"Programming\"),\n",
    "        (\"Deep Space\", \"Jane Doe\", \"Sci-Fi\")\n",
    "    ]\n",
    "    borrowed = []\n",
    "    count = {\"available\": len(books), \"borrowed\": 0}\n",
    "\n",
    "    while True:\n",
    "        print(f\"\\nAvailable Books: {count['available']} | Borrowed Books: {count['borrowed']}\")\n",
    "        choice = input(\"\\n1. Search by Genre\\n 2. Borrow a Book\\n 3. Return a Book\\n 4. Exit\\n Choose an option: \")\n",
    "        \n",
    "        if choice == \"1\":\n",
    "            search_by_genre(books)\n",
    "        elif choice == \"2\":\n",
    "            borrow_book(books, borrowed, count)\n",
    "        elif choice == \"3\":\n",
    "            return_book(books, borrowed, count)\n",
    "        elif choice == \"4\":\n",
    "            print(\"Goodbye!\"); break\n",
    "        else:\n",
    "            print(\"Invalid choice. Please try again.\")\n",
    "\n",
    "library_system()\n"
   ]
  },
  {
   "cell_type": "markdown",
   "id": "98c0c566-c6c8-4aab-bffe-be2e6bdb3375",
   "metadata": {},
   "source": []
  }
 ],
 "metadata": {
  "kernelspec": {
   "display_name": "Python 3 (ipykernel)",
   "language": "python",
   "name": "python3"
  },
  "language_info": {
   "codemirror_mode": {
    "name": "ipython",
    "version": 3
   },
   "file_extension": ".py",
   "mimetype": "text/x-python",
   "name": "python",
   "nbconvert_exporter": "python",
   "pygments_lexer": "ipython3",
   "version": "3.12.4"
  }
 },
 "nbformat": 4,
 "nbformat_minor": 5
}
